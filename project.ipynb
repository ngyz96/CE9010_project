{
 "metadata": {
  "language_info": {
   "codemirror_mode": {
    "name": "ipython",
    "version": 3
   },
   "file_extension": ".py",
   "mimetype": "text/x-python",
   "name": "python",
   "nbconvert_exporter": "python",
   "pygments_lexer": "ipython3",
   "version": "3.9.2-final"
  },
  "orig_nbformat": 2,
  "kernelspec": {
   "name": "python392jvsc74a57bd0b15dd391425beb7bfb72baa16cecef4306ade91e04ffd947b288f0a95abd94ec",
   "display_name": "Python 3.9.2 64-bit ('ce9010_project': conda)"
  },
  "metadata": {
   "interpreter": {
    "hash": "b15dd391425beb7bfb72baa16cecef4306ade91e04ffd947b288f0a95abd94ec"
   }
  }
 },
 "nbformat": 4,
 "nbformat_minor": 2,
 "cells": [
  {
   "cell_type": "code",
   "execution_count": 16,
   "metadata": {},
   "outputs": [
    {
     "output_type": "stream",
     "name": "stdout",
     "text": [
      "Collecting pandas\n  Downloading pandas-1.2.3-cp39-cp39-win_amd64.whl (9.3 MB)\nRequirement already satisfied: python-dateutil>=2.7.3 in c:\\users\\yz\\appdata\\roaming\\python\\python39\\site-packages (from pandas) (2.8.1)\nCollecting pytz>=2017.3\n  Downloading pytz-2021.1-py2.py3-none-any.whl (510 kB)\nCollecting numpy>=1.16.5\n  Downloading numpy-1.20.2-cp39-cp39-win_amd64.whl (13.7 MB)\nRequirement already satisfied: six>=1.5 in c:\\users\\yz\\appdata\\roaming\\python\\python39\\site-packages (from python-dateutil>=2.7.3->pandas) (1.15.0)\nInstalling collected packages: pytz, numpy, pandas\nSuccessfully installed numpy-1.20.2 pandas-1.2.3 pytz-2021.1\n"
     ]
    }
   ],
   "source": [
    "!pip install pandas\n"
   ]
  },
  {
   "source": [
    "## Data download process\n",
    "The data is available from https://hive.biochemistry.gwu.edu/dna.cgi?cmd=tissue_codon_usage&id=586358&mode=cocoputs. The Refseq_species.tsv contains all the codon frequencies of many species from NCBI. Firstly we try to download via the download link with wget."
   ],
   "cell_type": "markdown",
   "metadata": {}
  },
  {
   "cell_type": "code",
   "execution_count": 15,
   "metadata": {},
   "outputs": [
    {
     "output_type": "stream",
     "name": "stdout",
     "text": [
      "<Response [200]>\n",
      "[]\n"
     ]
    }
   ],
   "source": [
    "import os\n",
    "import wget\n",
    "print(myfile)\n",
    "data_folder = \"./data\"\n",
    "filename = \"codon_usage.tsv\"\n",
    "if not os.path.exists(data_folder):\n",
    "    os.makedirs(data_folder)\n",
    "filepath = os.path.join(data_folder,filename)\n",
    "url = \"https://hive.biochemistry.gwu.edu/dna.cgi?cmd=objFile&ids=586358&filename=Refseq_species.tsv&raw=1\"\n",
    "wget.download(url, filepath)\n",
    "with open(\"data/codon_usage.tsv\", \"r\") as f:\n",
    "    print(f.readlines())"
   ]
  },
  {
   "source": [
    "However, the above approach did not work and returned an empty file. After examining the download process with the developers tool in Google Chrome, I realise it requires some headers for the GET request. I tried the below copying the headers in but it still did not work."
   ],
   "cell_type": "markdown",
   "metadata": {}
  },
  {
   "cell_type": "code",
   "execution_count": 9,
   "metadata": {},
   "outputs": [],
   "source": [
    "import requests\n",
    "headers = {\n",
    "\"Host\": \"hive.biochemistry.gwu.edu\",\n",
    "\"Connection\": \"keep-alive\",\n",
    "\"sec-ch-ua\": '\"Google Chrome\";v=\"89\", \"Chromium\";v=\"89\", \";Not A Brand\";v=\"99\"',\n",
    "\"sec-ch-ua-mobile\": \"?0\",\n",
    "\"Upgrade-Insecure-Requests\": \"1\",\n",
    "\"User-Agent\": \"Mozilla/5.0 (Windows NT 10.0; Win64; x64) AppleWebKit/537.36 (KHTML, like Gecko) Chrome/89.0.4389.114 Safari/537.36\",\n",
    "\"Accept\": \"text/html,application/xhtml+xml,application/xml;q=0.9,image/avif,image/webp,image/apng,*/*;q=0.8,application/signed-exchange;v=b3;q=0.9\",\n",
    "\"Sec-Fetch-Site\": \"same-origin\",\n",
    "\"Sec-Fetch-Mode\": \"navigate\",\n",
    "\"Sec-Fetch-User\": \"?1\",\n",
    "\"Sec-Fetch-Dest\": \"document\",\n",
    "\"Referer\": \"https://hive.biochemistry.gwu.edu/dna.cgi?cmd=tissue_codon_usage&id=586358&mode=cocoputs\",\n",
    "\"Accept-Encoding\": \"gzip, deflate, br\",\n",
    "\"Accept-Language\": \"en-US,en;q=0.9\",\n",
    "\n",
    "\"Range\": \"bytes=783482-783482\",\n",
    "\"If-Range\": \"1578517013:86024007\"}\n",
    "myfile = requests.get(\"https://hive.biochemistry.gwu.edu/dna.cgi?cmd=objFile&ids=586358&filename=Refseq_species.tsv&raw=1\", headers=headers)\n",
    "print(myfile.content)"
   ]
  },
  {
   "source": [
    "Once again, it is empty. Hence, I resorted to using Selenium and navigating the browser. First, I downloaded the Chrome driver. Then, I used the browser developer tools to examine the webpage and copy the XPATH of the elements that have to be clicked. On normal navigation, it requires 2 clicks to initate the download of the file. "
   ],
   "cell_type": "markdown",
   "metadata": {}
  },
  {
   "cell_type": "code",
   "execution_count": null,
   "metadata": {},
   "outputs": [],
   "source": [
    "from zipfile import ZipFile\n",
    "from selenium import webdriver\n",
    "from selenium.webdriver.common.keys import Keys\n",
    "from selenium.webdriver.support import expected_conditions as EC\n",
    "from selenium.webdriver.support.ui import WebDriverWait\n",
    "from selenium.webdriver.common.by import By\n",
    "from selenium.common.exceptions import TimeoutException\n",
    "\n",
    "#downloading and extracting the chrome drive\n",
    "wget.download(\"https://chromedriver.storage.googleapis.com/89.0.4389.23/chromedriver_win32.zip\")\n",
    "file_name = \"chromedriver_win32.zip\"\n",
    "with ZipFile(file_name, 'r') as zip:\n",
    "    zip.extractall()\n",
    "\n",
    "driver = webdriver.Chrome(executable_path=r'./chromedriver.exe')\n",
    "driver.get(\"https://hive.biochemistry.gwu.edu/dna.cgi?cmd=tissue_codon_usage&id=586358&mode=cocoputs\")\n",
    "timeout = 60\n",
    "try:\n",
    "    element_present = EC.presence_of_element_located((By.XPATH, '//*[@id=\"results\"]/li[3]/a'))\n",
    "    WebDriverWait(driver, timeout).until(element_present)\n",
    "    download_tab = driver.find_element_by_xpath(\"/html/body/form[2]/div/div/div[4]/div[1]/div[1]/div[2]/ul/li[3]/ul/li[3]/a\")\n",
    "    download_tab.click()\n",
    "    print(\"Clicked the first button!\")\n",
    "except TimeoutException:\n",
    "    print (\"Timed out waiting for page to load\")\n",
    "\n",
    "try:\n",
    "    element_present = EC.presence_of_element_located((By.XPATH, '/html/body/form[2]/div/div/div[7]/div[1]/div[2]/div/div/div[2]/table/tbody/tr[18]/td[2]'))\n",
    "    WebDriverWait(driver, timeout).until(element_present)\n",
    "    print(\"present!\")\n",
    "    download = driver.find_element_by_xpath('/html/body/form[2]/div/div/div[7]/div[1]/div[2]/div/div/div[2]/table/tbody/tr[18]/td[2]')\n",
    "    download.click()\n",
    "    print(\"Clicked the second tab!\")\n",
    "except TimeoutException:\n",
    "    print (\"Timed out waiting for page to load\")\n",
    "\n",
    "driver.close()"
   ]
  },
  {
   "source": [
    "However, this method ultimately did not work as the second table did not appear after clicking the first click. I was unable to make more progress due to my limited knowledge of HTML and JavaScript. Ultimately, I posit that there are safeguards put in place to limit any automated downloading/conceal the download as they are an academic institute and may be afraid of request overload. I moved on by downloading the data manually as of 7th of March. "
   ],
   "cell_type": "markdown",
   "metadata": {}
  },
  {
   "source": [
    "## Data exploration\n",
    "Here, we look at how many entries are there in the files. "
   ],
   "cell_type": "markdown",
   "metadata": {}
  },
  {
   "cell_type": "code",
   "execution_count": 25,
   "metadata": {},
   "outputs": [
    {
     "output_type": "stream",
     "name": "stdout",
     "text": [
      "(191025, 76)\n"
     ]
    },
    {
     "output_type": "execute_result",
     "data": {
      "text/plain": [
       "  Division         Assembly    Taxid                                Species  \\\n",
       "0   refseq  GCF_002287175.1     2161              Methanobacterium bryantii   \n",
       "1   refseq  GCF_000302455.1  1204725   Methanobacterium formicicum DSM 3637   \n",
       "2   refseq  GCF_000762265.1     2162            Methanobacterium formicicum   \n",
       "3   refseq  GCF_001458655.1     2162            Methanobacterium formicicum   \n",
       "4   refseq  GCF_000016525.1   420247  Methanobrevibacter smithii ATCC 35061   \n",
       "\n",
       "  Organelle  Translation Table  # CDS  # Codons    GC%   GC1%  ...   CGA  \\\n",
       "0   genomic                 11   3266    910953  35.52  45.52  ...  2404   \n",
       "1   genomic                 11   2520    719599  40.88  49.69  ...  2968   \n",
       "2   genomic                 11   2376    678104  43.72  51.53  ...  3067   \n",
       "3   genomic                 11   2372    690178  43.50  51.30  ...  3102   \n",
       "4   genomic                 11   1757    557617  32.06  43.34  ...   405   \n",
       "\n",
       "    CGG    AGT   AGC    AGA   AGG    GGT   GGC    GGA   GGG  \n",
       "0  1515  12496  7687  14043  8418  18911  8417  26631  8789  \n",
       "1  3068  10562  4882   8084  6214  17552  5296  21059  7069  \n",
       "2  5204   9335  4793   6499  5439  15945  5847  19130  7839  \n",
       "3  5182   9545  4797   6613  5472  16184  5887  19385  7934  \n",
       "4   168   8234  3248  10191  2880  14664  2965  16981  2107  \n",
       "\n",
       "[5 rows x 76 columns]"
      ],
      "text/html": "<div>\n<style scoped>\n    .dataframe tbody tr th:only-of-type {\n        vertical-align: middle;\n    }\n\n    .dataframe tbody tr th {\n        vertical-align: top;\n    }\n\n    .dataframe thead th {\n        text-align: right;\n    }\n</style>\n<table border=\"1\" class=\"dataframe\">\n  <thead>\n    <tr style=\"text-align: right;\">\n      <th></th>\n      <th>Division</th>\n      <th>Assembly</th>\n      <th>Taxid</th>\n      <th>Species</th>\n      <th>Organelle</th>\n      <th>Translation Table</th>\n      <th># CDS</th>\n      <th># Codons</th>\n      <th>GC%</th>\n      <th>GC1%</th>\n      <th>...</th>\n      <th>CGA</th>\n      <th>CGG</th>\n      <th>AGT</th>\n      <th>AGC</th>\n      <th>AGA</th>\n      <th>AGG</th>\n      <th>GGT</th>\n      <th>GGC</th>\n      <th>GGA</th>\n      <th>GGG</th>\n    </tr>\n  </thead>\n  <tbody>\n    <tr>\n      <th>0</th>\n      <td>refseq</td>\n      <td>GCF_002287175.1</td>\n      <td>2161</td>\n      <td>Methanobacterium bryantii</td>\n      <td>genomic</td>\n      <td>11</td>\n      <td>3266</td>\n      <td>910953</td>\n      <td>35.52</td>\n      <td>45.52</td>\n      <td>...</td>\n      <td>2404</td>\n      <td>1515</td>\n      <td>12496</td>\n      <td>7687</td>\n      <td>14043</td>\n      <td>8418</td>\n      <td>18911</td>\n      <td>8417</td>\n      <td>26631</td>\n      <td>8789</td>\n    </tr>\n    <tr>\n      <th>1</th>\n      <td>refseq</td>\n      <td>GCF_000302455.1</td>\n      <td>1204725</td>\n      <td>Methanobacterium formicicum DSM 3637</td>\n      <td>genomic</td>\n      <td>11</td>\n      <td>2520</td>\n      <td>719599</td>\n      <td>40.88</td>\n      <td>49.69</td>\n      <td>...</td>\n      <td>2968</td>\n      <td>3068</td>\n      <td>10562</td>\n      <td>4882</td>\n      <td>8084</td>\n      <td>6214</td>\n      <td>17552</td>\n      <td>5296</td>\n      <td>21059</td>\n      <td>7069</td>\n    </tr>\n    <tr>\n      <th>2</th>\n      <td>refseq</td>\n      <td>GCF_000762265.1</td>\n      <td>2162</td>\n      <td>Methanobacterium formicicum</td>\n      <td>genomic</td>\n      <td>11</td>\n      <td>2376</td>\n      <td>678104</td>\n      <td>43.72</td>\n      <td>51.53</td>\n      <td>...</td>\n      <td>3067</td>\n      <td>5204</td>\n      <td>9335</td>\n      <td>4793</td>\n      <td>6499</td>\n      <td>5439</td>\n      <td>15945</td>\n      <td>5847</td>\n      <td>19130</td>\n      <td>7839</td>\n    </tr>\n    <tr>\n      <th>3</th>\n      <td>refseq</td>\n      <td>GCF_001458655.1</td>\n      <td>2162</td>\n      <td>Methanobacterium formicicum</td>\n      <td>genomic</td>\n      <td>11</td>\n      <td>2372</td>\n      <td>690178</td>\n      <td>43.50</td>\n      <td>51.30</td>\n      <td>...</td>\n      <td>3102</td>\n      <td>5182</td>\n      <td>9545</td>\n      <td>4797</td>\n      <td>6613</td>\n      <td>5472</td>\n      <td>16184</td>\n      <td>5887</td>\n      <td>19385</td>\n      <td>7934</td>\n    </tr>\n    <tr>\n      <th>4</th>\n      <td>refseq</td>\n      <td>GCF_000016525.1</td>\n      <td>420247</td>\n      <td>Methanobrevibacter smithii ATCC 35061</td>\n      <td>genomic</td>\n      <td>11</td>\n      <td>1757</td>\n      <td>557617</td>\n      <td>32.06</td>\n      <td>43.34</td>\n      <td>...</td>\n      <td>405</td>\n      <td>168</td>\n      <td>8234</td>\n      <td>3248</td>\n      <td>10191</td>\n      <td>2880</td>\n      <td>14664</td>\n      <td>2965</td>\n      <td>16981</td>\n      <td>2107</td>\n    </tr>\n  </tbody>\n</table>\n<p>5 rows × 76 columns</p>\n</div>"
     },
     "metadata": {},
     "execution_count": 25
    }
   ],
   "source": [
    "import pandas as pd\n",
    "df = pd.read_table(\"data/o586358-Refseq_species.tsv\",index_col=False,low_memory=False)\n",
    "print(df.shape)\n",
    "df.head()"
   ]
  },
  {
   "cell_type": "code",
   "execution_count": 42,
   "metadata": {},
   "outputs": [
    {
     "output_type": "stream",
     "name": "stdout",
     "text": [
      "['Division', 'Assembly', 'Taxid', 'Species', 'Organelle', 'Translation Table', '# CDS', '# Codons', 'GC%', 'GC1%', 'GC2%', 'GC3%', 'TTT', 'TTC', 'TTA', 'TTG', 'CTT', 'CTC', 'CTA', 'CTG', 'ATT', 'ATC', 'ATA', 'ATG', 'GTT', 'GTC', 'GTA', 'GTG', 'TAT', 'TAC', 'TAA', 'TAG', 'CAT', 'CAC', 'CAA', 'CAG', 'AAT', 'AAC', 'AAA', 'AAG', 'GAT', 'GAC', 'GAA', 'GAG', 'TCT', 'TCC', 'TCA', 'TCG', 'CCT', 'CCC', 'CCA', 'CCG', 'ACT', 'ACC', 'ACA', 'ACG', 'GCT', 'GCC', 'GCA', 'GCG', 'TGT', 'TGC', 'TGA', 'TGG', 'CGT', 'CGC', 'CGA', 'CGG', 'AGT', 'AGC', 'AGA', 'AGG', 'GGT', 'GGC', 'GGA', 'GGG']\nDivision                  1\nAssembly             177439\nTaxid                 59670\nSpecies               59060\nOrganelle                 4\nTranslation Table        11\ndtype: int64\n"
     ]
    },
    {
     "output_type": "execute_result",
     "data": {
      "text/plain": [
       "array(['genomic', 'mitochondrion', 'chloroplast', 'plastid'], dtype=object)"
      ]
     },
     "metadata": {},
     "execution_count": 42
    }
   ],
   "source": [
    "print(list(df))\n",
    "print(df.iloc[:, 0:6].nunique())\n",
    "df.iloc[:,4].unique()"
   ]
  },
  {
   "source": [
    "As we can see here, we have 191025 samples with 76 variables. A quick glance at the number of unique values show that the data requires cleaning. Firstly, we have less unique assemblies than number of rows, meaning that some of the assemblies are repeated or NaN. Even though the number of species and taxid differs, here it is acceptable as there might taxonomic IDs only goes up till species levels but there might be subspecies especially for microbes. We also have different type of DNA origins, here we focus on genomic DNA as those genes in mitochondrion, plastid or chloroplast might be shared between distantly related species and skew the differences. "
   ],
   "cell_type": "markdown",
   "metadata": {}
  },
  {
   "cell_type": "code",
   "execution_count": 45,
   "metadata": {},
   "outputs": [
    {
     "output_type": "execute_result",
     "data": {
      "text/plain": [
       "       Division         Assembly    Taxid                             Species  \\\n",
       "658      refseq  GCF_000513435.1  1173487                 Halorubrum sp. AJ67   \n",
       "660      refseq  GCF_000513435.1  1173487                 Halorubrum sp. AJ67   \n",
       "719      refseq              NaN  1407055  Candidatus Nitrosotenuis uzonensis   \n",
       "720      refseq  GCF_000723185.1  1407055  Candidatus Nitrosotenuis uzonensis   \n",
       "4956     refseq              NaN  1354719          Helicobacter pylori HP87P7   \n",
       "...         ...              ...      ...                                 ...   \n",
       "191020   refseq              NaN  1923763           Xingshan nematode virus 4   \n",
       "191021   refseq              NaN  1923772            Xinzhou nematode virus 4   \n",
       "191022   refseq              NaN  1415147                 Xylella phage Salvo   \n",
       "191023   refseq              NaN  1415148                  Xylella phage Sano   \n",
       "191024   refseq              NaN  2052742          Yersinia phage fHe-Yen9-04   \n",
       "\n",
       "       Organelle  Translation Table  # CDS  # Codons    GC%   GC1%  ...   CGA  \\\n",
       "658      genomic                 11   3078    763055  64.68  67.31  ...  8366   \n",
       "660      genomic                 11   3083    764041  64.69  67.32  ...  8369   \n",
       "719      genomic                 11      1       200  55.83  60.50  ...     1   \n",
       "720      genomic                 11   1876    493394  42.86  49.86  ...  2243   \n",
       "4956     genomic                 11      4      1064  37.53  40.04  ...    11   \n",
       "...          ...                ...    ...       ...    ...    ...  ...   ...   \n",
       "191020   genomic                  0      5      3630  38.21  43.91  ...    49   \n",
       "191021   genomic                  0      5      3652  39.91  45.29  ...    39   \n",
       "191022   genomic                 11     72     17848  63.15  62.21  ...    58   \n",
       "191023   genomic                 11     77     17851  62.46  61.59  ...    71   \n",
       "191024   genomic                 11    531    108127  31.57  43.67  ...   472   \n",
       "\n",
       "          CGG   AGT    AGC   AGA   AGG   GGT    GGC    GGA    GGG  \n",
       "658     17661  3223  10213  1988  2032  7707  29947   8715  16798  \n",
       "660     17683  3223  10222  1988  2032  7711  30002   8725  16820  \n",
       "719         0     1      1     2     2     0      2      5      0  \n",
       "720       824  3560   5730  9304  5257  6294  10132  12660   3397  \n",
       "4956        8    10     22    21    21     9     10     14     16  \n",
       "...       ...   ...    ...   ...   ...   ...    ...    ...    ...  \n",
       "191020     13    60     29    72    21    40     19     85     41  \n",
       "191021     11    71     30    73    12    38     21     99     34  \n",
       "191022    140    30    344    10    22   163    993     71    109  \n",
       "191023    137    41    340    10    24   185    993     74     95  \n",
       "191024    138  2424    329  1074   190  3630    317   1761    401  \n",
       "\n",
       "[13585 rows x 76 columns]"
      ],
      "text/html": "<div>\n<style scoped>\n    .dataframe tbody tr th:only-of-type {\n        vertical-align: middle;\n    }\n\n    .dataframe tbody tr th {\n        vertical-align: top;\n    }\n\n    .dataframe thead th {\n        text-align: right;\n    }\n</style>\n<table border=\"1\" class=\"dataframe\">\n  <thead>\n    <tr style=\"text-align: right;\">\n      <th></th>\n      <th>Division</th>\n      <th>Assembly</th>\n      <th>Taxid</th>\n      <th>Species</th>\n      <th>Organelle</th>\n      <th>Translation Table</th>\n      <th># CDS</th>\n      <th># Codons</th>\n      <th>GC%</th>\n      <th>GC1%</th>\n      <th>...</th>\n      <th>CGA</th>\n      <th>CGG</th>\n      <th>AGT</th>\n      <th>AGC</th>\n      <th>AGA</th>\n      <th>AGG</th>\n      <th>GGT</th>\n      <th>GGC</th>\n      <th>GGA</th>\n      <th>GGG</th>\n    </tr>\n  </thead>\n  <tbody>\n    <tr>\n      <th>658</th>\n      <td>refseq</td>\n      <td>GCF_000513435.1</td>\n      <td>1173487</td>\n      <td>Halorubrum sp. AJ67</td>\n      <td>genomic</td>\n      <td>11</td>\n      <td>3078</td>\n      <td>763055</td>\n      <td>64.68</td>\n      <td>67.31</td>\n      <td>...</td>\n      <td>8366</td>\n      <td>17661</td>\n      <td>3223</td>\n      <td>10213</td>\n      <td>1988</td>\n      <td>2032</td>\n      <td>7707</td>\n      <td>29947</td>\n      <td>8715</td>\n      <td>16798</td>\n    </tr>\n    <tr>\n      <th>660</th>\n      <td>refseq</td>\n      <td>GCF_000513435.1</td>\n      <td>1173487</td>\n      <td>Halorubrum sp. AJ67</td>\n      <td>genomic</td>\n      <td>11</td>\n      <td>3083</td>\n      <td>764041</td>\n      <td>64.69</td>\n      <td>67.32</td>\n      <td>...</td>\n      <td>8369</td>\n      <td>17683</td>\n      <td>3223</td>\n      <td>10222</td>\n      <td>1988</td>\n      <td>2032</td>\n      <td>7711</td>\n      <td>30002</td>\n      <td>8725</td>\n      <td>16820</td>\n    </tr>\n    <tr>\n      <th>719</th>\n      <td>refseq</td>\n      <td>NaN</td>\n      <td>1407055</td>\n      <td>Candidatus Nitrosotenuis uzonensis</td>\n      <td>genomic</td>\n      <td>11</td>\n      <td>1</td>\n      <td>200</td>\n      <td>55.83</td>\n      <td>60.50</td>\n      <td>...</td>\n      <td>1</td>\n      <td>0</td>\n      <td>1</td>\n      <td>1</td>\n      <td>2</td>\n      <td>2</td>\n      <td>0</td>\n      <td>2</td>\n      <td>5</td>\n      <td>0</td>\n    </tr>\n    <tr>\n      <th>720</th>\n      <td>refseq</td>\n      <td>GCF_000723185.1</td>\n      <td>1407055</td>\n      <td>Candidatus Nitrosotenuis uzonensis</td>\n      <td>genomic</td>\n      <td>11</td>\n      <td>1876</td>\n      <td>493394</td>\n      <td>42.86</td>\n      <td>49.86</td>\n      <td>...</td>\n      <td>2243</td>\n      <td>824</td>\n      <td>3560</td>\n      <td>5730</td>\n      <td>9304</td>\n      <td>5257</td>\n      <td>6294</td>\n      <td>10132</td>\n      <td>12660</td>\n      <td>3397</td>\n    </tr>\n    <tr>\n      <th>4956</th>\n      <td>refseq</td>\n      <td>NaN</td>\n      <td>1354719</td>\n      <td>Helicobacter pylori HP87P7</td>\n      <td>genomic</td>\n      <td>11</td>\n      <td>4</td>\n      <td>1064</td>\n      <td>37.53</td>\n      <td>40.04</td>\n      <td>...</td>\n      <td>11</td>\n      <td>8</td>\n      <td>10</td>\n      <td>22</td>\n      <td>21</td>\n      <td>21</td>\n      <td>9</td>\n      <td>10</td>\n      <td>14</td>\n      <td>16</td>\n    </tr>\n    <tr>\n      <th>...</th>\n      <td>...</td>\n      <td>...</td>\n      <td>...</td>\n      <td>...</td>\n      <td>...</td>\n      <td>...</td>\n      <td>...</td>\n      <td>...</td>\n      <td>...</td>\n      <td>...</td>\n      <td>...</td>\n      <td>...</td>\n      <td>...</td>\n      <td>...</td>\n      <td>...</td>\n      <td>...</td>\n      <td>...</td>\n      <td>...</td>\n      <td>...</td>\n      <td>...</td>\n      <td>...</td>\n    </tr>\n    <tr>\n      <th>191020</th>\n      <td>refseq</td>\n      <td>NaN</td>\n      <td>1923763</td>\n      <td>Xingshan nematode virus 4</td>\n      <td>genomic</td>\n      <td>0</td>\n      <td>5</td>\n      <td>3630</td>\n      <td>38.21</td>\n      <td>43.91</td>\n      <td>...</td>\n      <td>49</td>\n      <td>13</td>\n      <td>60</td>\n      <td>29</td>\n      <td>72</td>\n      <td>21</td>\n      <td>40</td>\n      <td>19</td>\n      <td>85</td>\n      <td>41</td>\n    </tr>\n    <tr>\n      <th>191021</th>\n      <td>refseq</td>\n      <td>NaN</td>\n      <td>1923772</td>\n      <td>Xinzhou nematode virus 4</td>\n      <td>genomic</td>\n      <td>0</td>\n      <td>5</td>\n      <td>3652</td>\n      <td>39.91</td>\n      <td>45.29</td>\n      <td>...</td>\n      <td>39</td>\n      <td>11</td>\n      <td>71</td>\n      <td>30</td>\n      <td>73</td>\n      <td>12</td>\n      <td>38</td>\n      <td>21</td>\n      <td>99</td>\n      <td>34</td>\n    </tr>\n    <tr>\n      <th>191022</th>\n      <td>refseq</td>\n      <td>NaN</td>\n      <td>1415147</td>\n      <td>Xylella phage Salvo</td>\n      <td>genomic</td>\n      <td>11</td>\n      <td>72</td>\n      <td>17848</td>\n      <td>63.15</td>\n      <td>62.21</td>\n      <td>...</td>\n      <td>58</td>\n      <td>140</td>\n      <td>30</td>\n      <td>344</td>\n      <td>10</td>\n      <td>22</td>\n      <td>163</td>\n      <td>993</td>\n      <td>71</td>\n      <td>109</td>\n    </tr>\n    <tr>\n      <th>191023</th>\n      <td>refseq</td>\n      <td>NaN</td>\n      <td>1415148</td>\n      <td>Xylella phage Sano</td>\n      <td>genomic</td>\n      <td>11</td>\n      <td>77</td>\n      <td>17851</td>\n      <td>62.46</td>\n      <td>61.59</td>\n      <td>...</td>\n      <td>71</td>\n      <td>137</td>\n      <td>41</td>\n      <td>340</td>\n      <td>10</td>\n      <td>24</td>\n      <td>185</td>\n      <td>993</td>\n      <td>74</td>\n      <td>95</td>\n    </tr>\n    <tr>\n      <th>191024</th>\n      <td>refseq</td>\n      <td>NaN</td>\n      <td>2052742</td>\n      <td>Yersinia phage fHe-Yen9-04</td>\n      <td>genomic</td>\n      <td>11</td>\n      <td>531</td>\n      <td>108127</td>\n      <td>31.57</td>\n      <td>43.67</td>\n      <td>...</td>\n      <td>472</td>\n      <td>138</td>\n      <td>2424</td>\n      <td>329</td>\n      <td>1074</td>\n      <td>190</td>\n      <td>3630</td>\n      <td>317</td>\n      <td>1761</td>\n      <td>401</td>\n    </tr>\n  </tbody>\n</table>\n<p>13585 rows × 76 columns</p>\n</div>"
     },
     "metadata": {},
     "execution_count": 45
    }
   ],
   "source": [
    "df[df.duplicated(['Assembly'])]"
   ]
  },
  {
   "cell_type": "code",
   "execution_count": null,
   "metadata": {},
   "outputs": [],
   "source": []
  }
 ]
}