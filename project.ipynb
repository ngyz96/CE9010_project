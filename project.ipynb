{
 "metadata": {
  "language_info": {
   "codemirror_mode": {
    "name": "ipython",
    "version": 3
   },
   "file_extension": ".py",
   "mimetype": "text/x-python",
   "name": "python",
   "nbconvert_exporter": "python",
   "pygments_lexer": "ipython3",
   "version": "3.9.2-final"
  },
  "orig_nbformat": 2,
  "kernelspec": {
   "name": "python392jvsc74a57bd0b15dd391425beb7bfb72baa16cecef4306ade91e04ffd947b288f0a95abd94ec",
   "display_name": "Python 3.9.2 64-bit ('ce9010_project': conda)"
  },
  "metadata": {
   "interpreter": {
    "hash": "b15dd391425beb7bfb72baa16cecef4306ade91e04ffd947b288f0a95abd94ec"
   }
  }
 },
 "nbformat": 4,
 "nbformat_minor": 2,
 "cells": [
  {
   "source": [
    "# P with codon usage levels at different taxonomic levels"
   ],
   "cell_type": "markdown",
   "metadata": {}
  },
  {
   "cell_type": "code",
   "execution_count": 18,
   "metadata": {},
   "outputs": [
    {
     "output_type": "stream",
     "name": "stdout",
     "text": [
      "Collecting biopython\n  Using cached biopython-1.78.tar.gz (16.9 MB)\nRequirement already satisfied: numpy in c:\\users\\yz\\miniconda3\\envs\\ce9010_project\\lib\\site-packages (from biopython) (1.20.2)\nBuilding wheels for collected packages: biopython\n  Building wheel for biopython (setup.py): started\n  Building wheel for biopython (setup.py): finished with status 'done'\n  Created wheel for biopython: filename=biopython-1.78-cp39-cp39-win_amd64.whl size=2266490 sha256=4481654414e69170175174da5b5f2c86c7dde4d29714b3c710a21a65d109cef3\n  Stored in directory: c:\\users\\yz\\appdata\\local\\pip\\cache\\wheels\\e1\\ec\\b2\\4609a82fd96fdafc83df0238d69eea90c1b7b7036f59683e17\nSuccessfully built biopython\nInstalling collected packages: biopython\nSuccessfully installed biopython-1.78\n"
     ]
    }
   ],
   "source": [
    "!pip install biopython"
   ]
  },
  {
   "cell_type": "code",
   "execution_count": 16,
   "metadata": {},
   "outputs": [
    {
     "output_type": "stream",
     "name": "stdout",
     "text": [
      "Collecting pandas\n  Downloading pandas-1.2.3-cp39-cp39-win_amd64.whl (9.3 MB)\nRequirement already satisfied: python-dateutil>=2.7.3 in c:\\users\\yz\\appdata\\roaming\\python\\python39\\site-packages (from pandas) (2.8.1)\nCollecting pytz>=2017.3\n  Downloading pytz-2021.1-py2.py3-none-any.whl (510 kB)\nCollecting numpy>=1.16.5\n  Downloading numpy-1.20.2-cp39-cp39-win_amd64.whl (13.7 MB)\nRequirement already satisfied: six>=1.5 in c:\\users\\yz\\appdata\\roaming\\python\\python39\\site-packages (from python-dateutil>=2.7.3->pandas) (1.15.0)\nInstalling collected packages: pytz, numpy, pandas\nSuccessfully installed numpy-1.20.2 pandas-1.2.3 pytz-2021.1\n"
     ]
    }
   ],
   "source": [
    "!pip install pandas"
   ]
  },
  {
   "source": [
    "## Data download process\n",
    "The data is available from https://hive.biochemistry.gwu.edu/dna.cgi?cmd=tissue_codon_usage&id=586358&mode=cocoputs. The Refseq_species.tsv contains all the codon frequencies of many species from NCBI. Firstly we try to download via the download link with wget."
   ],
   "cell_type": "markdown",
   "metadata": {}
  },
  {
   "cell_type": "code",
   "execution_count": 15,
   "metadata": {},
   "outputs": [
    {
     "output_type": "stream",
     "name": "stdout",
     "text": [
      "<Response [200]>\n",
      "[]\n"
     ]
    }
   ],
   "source": [
    "import os\n",
    "import wget\n",
    "print(myfile)\n",
    "data_folder = \"./data\"\n",
    "filename = \"codon_usage.tsv\"\n",
    "if not os.path.exists(data_folder):\n",
    "    os.makedirs(data_folder)\n",
    "filepath = os.path.join(data_folder,filename)\n",
    "url = \"https://hive.biochemistry.gwu.edu/dna.cgi?cmd=objFile&ids=586358&filename=Refseq_species.tsv&raw=1\"\n",
    "wget.download(url, filepath)\n",
    "with open(\"data/codon_usage.tsv\", \"r\") as f:\n",
    "    print(f.readlines())"
   ]
  },
  {
   "source": [
    "However, the above approach did not work and returned an empty file. After examining the download process with the developers tool in Google Chrome, I realise it requires some headers for the GET request. I tried the below copying the headers in but it still did not work."
   ],
   "cell_type": "markdown",
   "metadata": {}
  },
  {
   "cell_type": "code",
   "execution_count": 1,
   "metadata": {},
   "outputs": [
    {
     "output_type": "stream",
     "name": "stdout",
     "text": [
      "b''\n"
     ]
    }
   ],
   "source": [
    "import requests\n",
    "headers = {\n",
    "\"Host\": \"hive.biochemistry.gwu.edu\",\n",
    "\"Connection\": \"keep-alive\",\n",
    "\"sec-ch-ua\": '\"Google Chrome\";v=\"89\", \"Chromium\";v=\"89\", \";Not A Brand\";v=\"99\"',\n",
    "\"sec-ch-ua-mobile\": \"?0\",\n",
    "\"Upgrade-Insecure-Requests\": \"1\",\n",
    "\"User-Agent\": \"Mozilla/5.0 (Windows NT 10.0; Win64; x64) AppleWebKit/537.36 (KHTML, like Gecko) Chrome/89.0.4389.114 Safari/537.36\",\n",
    "\"Accept\": \"text/html,application/xhtml+xml,application/xml;q=0.9,image/avif,image/webp,image/apng,*/*;q=0.8,application/signed-exchange;v=b3;q=0.9\",\n",
    "\"Sec-Fetch-Site\": \"same-origin\",\n",
    "\"Sec-Fetch-Mode\": \"navigate\",\n",
    "\"Sec-Fetch-User\": \"?1\",\n",
    "\"Sec-Fetch-Dest\": \"document\",\n",
    "\"Referer\": \"https://hive.biochemistry.gwu.edu/dna.cgi?cmd=tissue_codon_usage&id=586358&mode=cocoputs\",\n",
    "\"Accept-Encoding\": \"gzip, deflate, br\",\n",
    "\"Accept-Language\": \"en-US,en;q=0.9\",\n",
    "\n",
    "\"Range\": \"bytes=783482-783482\",\n",
    "\"If-Range\": \"1578517013:86024007\"}\n",
    "myfile = requests.get(\"https://hive.biochemistry.gwu.edu/dna.cgi?cmd=objFile&ids=586358&filename=Refseq_species.tsv&raw=1\", headers=headers)\n",
    "print(myfile.content)"
   ]
  },
  {
   "source": [
    "Once again, it is empty. Hence, I resorted to using Selenium and navigating the browser. First, I downloaded the Chrome driver. Then, I used the browser developer tools to examine the webpage and copy the XPATH of the elements that have to be clicked. On normal navigation, it requires 2 clicks to initate the download of the file. "
   ],
   "cell_type": "markdown",
   "metadata": {}
  },
  {
   "cell_type": "code",
   "execution_count": 2,
   "metadata": {},
   "outputs": [
    {
     "output_type": "stream",
     "name": "stdout",
     "text": [
      "Clicked the first button!\n",
      "Timed out waiting for page to load\n"
     ]
    }
   ],
   "source": [
    "from zipfile import ZipFile\n",
    "from selenium import webdriver\n",
    "from selenium.webdriver.common.keys import Keys\n",
    "from selenium.webdriver.support import expected_conditions as EC\n",
    "from selenium.webdriver.support.ui import WebDriverWait\n",
    "from selenium.webdriver.common.by import By\n",
    "from selenium.common.exceptions import TimeoutException\n",
    "\n",
    "#downloading and extracting the chrome drive\n",
    "wget.download(\"https://chromedriver.storage.googleapis.com/89.0.4389.23/chromedriver_win32.zip\")\n",
    "file_name = \"chromedriver_win32.zip\"\n",
    "with ZipFile(file_name, 'r') as zip:\n",
    "    zip.extractall()\n",
    "\n",
    "driver = webdriver.Chrome(executable_path=r'./chromedriver.exe')\n",
    "driver.get(\"https://hive.biochemistry.gwu.edu/dna.cgi?cmd=tissue_codon_usage&id=586358&mode=cocoputs\")\n",
    "timeout = 60\n",
    "try:\n",
    "    element_present = EC.presence_of_element_located((By.XPATH, '//*[@id=\"results\"]/li[3]/a'))\n",
    "    WebDriverWait(driver, timeout).until(element_present)\n",
    "    download_tab = driver.find_element_by_xpath(\"/html/body/form[2]/div/div/div[4]/div[1]/div[1]/div[2]/ul/li[3]/ul/li[3]/a\")\n",
    "    download_tab.click()\n",
    "    print(\"Clicked the first button!\")\n",
    "except TimeoutException:\n",
    "    print (\"Timed out waiting for page to load\")\n",
    "\n",
    "try:\n",
    "    element_present = EC.presence_of_element_located((By.XPATH, '/html/body/form[2]/div/div/div[7]/div[1]/div[2]/div/div/div[2]/table/tbody/tr[18]/td[2]'))\n",
    "    WebDriverWait(driver, timeout).until(element_present)\n",
    "    download = driver.find_element_by_xpath('/html/body/form[2]/div/div/div[7]/div[1]/div[2]/div/div/div[2]/table/tbody/tr[18]/td[2]')\n",
    "    download.click()\n",
    "    print(\"Clicked the second tab!\")\n",
    "except TimeoutException:\n",
    "    print (\"Timed out waiting for page to load\")\n",
    "\n",
    "driver.close()"
   ]
  },
  {
   "source": [
    "However, this method ultimately did not work as the second table did not appear after clicking the first click. I was unable to make more progress due to my limited knowledge of HTML and JavaScript. Ultimately, I postulates that there are safeguards put in place to limit any automated downloading/conceal the download as they are an academic institute and may be afraid of request overload. I moved on by downloading the data manually (as of 13th of March). "
   ],
   "cell_type": "markdown",
   "metadata": {}
  },
  {
   "source": [
    "## Data exploration\n",
    "Here, we look at how many entries are there in the file. "
   ],
   "cell_type": "markdown",
   "metadata": {}
  },
  {
   "cell_type": "code",
   "execution_count": 143,
   "metadata": {},
   "outputs": [
    {
     "output_type": "stream",
     "name": "stdout",
     "text": [
      "(191025, 76)\n"
     ]
    },
    {
     "output_type": "execute_result",
     "data": {
      "text/plain": [
       "  Division         Assembly    Taxid                                Species  \\\n",
       "0   refseq  GCF_002287175.1     2161              Methanobacterium bryantii   \n",
       "1   refseq  GCF_000302455.1  1204725   Methanobacterium formicicum DSM 3637   \n",
       "2   refseq  GCF_000762265.1     2162            Methanobacterium formicicum   \n",
       "3   refseq  GCF_001458655.1     2162            Methanobacterium formicicum   \n",
       "4   refseq  GCF_000016525.1   420247  Methanobrevibacter smithii ATCC 35061   \n",
       "\n",
       "  Organelle  Translation Table  # CDS  # Codons    GC%   GC1%  ...   CGA  \\\n",
       "0   genomic                 11   3266    910953  35.52  45.52  ...  2404   \n",
       "1   genomic                 11   2520    719599  40.88  49.69  ...  2968   \n",
       "2   genomic                 11   2376    678104  43.72  51.53  ...  3067   \n",
       "3   genomic                 11   2372    690178  43.50  51.30  ...  3102   \n",
       "4   genomic                 11   1757    557617  32.06  43.34  ...   405   \n",
       "\n",
       "    CGG    AGT   AGC    AGA   AGG    GGT   GGC    GGA   GGG  \n",
       "0  1515  12496  7687  14043  8418  18911  8417  26631  8789  \n",
       "1  3068  10562  4882   8084  6214  17552  5296  21059  7069  \n",
       "2  5204   9335  4793   6499  5439  15945  5847  19130  7839  \n",
       "3  5182   9545  4797   6613  5472  16184  5887  19385  7934  \n",
       "4   168   8234  3248  10191  2880  14664  2965  16981  2107  \n",
       "\n",
       "[5 rows x 76 columns]"
      ],
      "text/html": "<div>\n<style scoped>\n    .dataframe tbody tr th:only-of-type {\n        vertical-align: middle;\n    }\n\n    .dataframe tbody tr th {\n        vertical-align: top;\n    }\n\n    .dataframe thead th {\n        text-align: right;\n    }\n</style>\n<table border=\"1\" class=\"dataframe\">\n  <thead>\n    <tr style=\"text-align: right;\">\n      <th></th>\n      <th>Division</th>\n      <th>Assembly</th>\n      <th>Taxid</th>\n      <th>Species</th>\n      <th>Organelle</th>\n      <th>Translation Table</th>\n      <th># CDS</th>\n      <th># Codons</th>\n      <th>GC%</th>\n      <th>GC1%</th>\n      <th>...</th>\n      <th>CGA</th>\n      <th>CGG</th>\n      <th>AGT</th>\n      <th>AGC</th>\n      <th>AGA</th>\n      <th>AGG</th>\n      <th>GGT</th>\n      <th>GGC</th>\n      <th>GGA</th>\n      <th>GGG</th>\n    </tr>\n  </thead>\n  <tbody>\n    <tr>\n      <th>0</th>\n      <td>refseq</td>\n      <td>GCF_002287175.1</td>\n      <td>2161</td>\n      <td>Methanobacterium bryantii</td>\n      <td>genomic</td>\n      <td>11</td>\n      <td>3266</td>\n      <td>910953</td>\n      <td>35.52</td>\n      <td>45.52</td>\n      <td>...</td>\n      <td>2404</td>\n      <td>1515</td>\n      <td>12496</td>\n      <td>7687</td>\n      <td>14043</td>\n      <td>8418</td>\n      <td>18911</td>\n      <td>8417</td>\n      <td>26631</td>\n      <td>8789</td>\n    </tr>\n    <tr>\n      <th>1</th>\n      <td>refseq</td>\n      <td>GCF_000302455.1</td>\n      <td>1204725</td>\n      <td>Methanobacterium formicicum DSM 3637</td>\n      <td>genomic</td>\n      <td>11</td>\n      <td>2520</td>\n      <td>719599</td>\n      <td>40.88</td>\n      <td>49.69</td>\n      <td>...</td>\n      <td>2968</td>\n      <td>3068</td>\n      <td>10562</td>\n      <td>4882</td>\n      <td>8084</td>\n      <td>6214</td>\n      <td>17552</td>\n      <td>5296</td>\n      <td>21059</td>\n      <td>7069</td>\n    </tr>\n    <tr>\n      <th>2</th>\n      <td>refseq</td>\n      <td>GCF_000762265.1</td>\n      <td>2162</td>\n      <td>Methanobacterium formicicum</td>\n      <td>genomic</td>\n      <td>11</td>\n      <td>2376</td>\n      <td>678104</td>\n      <td>43.72</td>\n      <td>51.53</td>\n      <td>...</td>\n      <td>3067</td>\n      <td>5204</td>\n      <td>9335</td>\n      <td>4793</td>\n      <td>6499</td>\n      <td>5439</td>\n      <td>15945</td>\n      <td>5847</td>\n      <td>19130</td>\n      <td>7839</td>\n    </tr>\n    <tr>\n      <th>3</th>\n      <td>refseq</td>\n      <td>GCF_001458655.1</td>\n      <td>2162</td>\n      <td>Methanobacterium formicicum</td>\n      <td>genomic</td>\n      <td>11</td>\n      <td>2372</td>\n      <td>690178</td>\n      <td>43.50</td>\n      <td>51.30</td>\n      <td>...</td>\n      <td>3102</td>\n      <td>5182</td>\n      <td>9545</td>\n      <td>4797</td>\n      <td>6613</td>\n      <td>5472</td>\n      <td>16184</td>\n      <td>5887</td>\n      <td>19385</td>\n      <td>7934</td>\n    </tr>\n    <tr>\n      <th>4</th>\n      <td>refseq</td>\n      <td>GCF_000016525.1</td>\n      <td>420247</td>\n      <td>Methanobrevibacter smithii ATCC 35061</td>\n      <td>genomic</td>\n      <td>11</td>\n      <td>1757</td>\n      <td>557617</td>\n      <td>32.06</td>\n      <td>43.34</td>\n      <td>...</td>\n      <td>405</td>\n      <td>168</td>\n      <td>8234</td>\n      <td>3248</td>\n      <td>10191</td>\n      <td>2880</td>\n      <td>14664</td>\n      <td>2965</td>\n      <td>16981</td>\n      <td>2107</td>\n    </tr>\n  </tbody>\n</table>\n<p>5 rows × 76 columns</p>\n</div>"
     },
     "metadata": {},
     "execution_count": 143
    }
   ],
   "source": [
    "import pandas as pd\n",
    "df = pd.read_table(\"data/o586358-Refseq_species.tsv\",index_col=False,low_memory=False)\n",
    "print(df.shape)\n",
    "df.head()"
   ]
  },
  {
   "cell_type": "code",
   "execution_count": 144,
   "metadata": {},
   "outputs": [
    {
     "output_type": "stream",
     "name": "stdout",
     "text": [
      "['Division', 'Assembly', 'Taxid', 'Species', 'Organelle', 'Translation Table', '# CDS', '# Codons', 'GC%', 'GC1%', 'GC2%', 'GC3%', 'TTT', 'TTC', 'TTA', 'TTG', 'CTT', 'CTC', 'CTA', 'CTG', 'ATT', 'ATC', 'ATA', 'ATG', 'GTT', 'GTC', 'GTA', 'GTG', 'TAT', 'TAC', 'TAA', 'TAG', 'CAT', 'CAC', 'CAA', 'CAG', 'AAT', 'AAC', 'AAA', 'AAG', 'GAT', 'GAC', 'GAA', 'GAG', 'TCT', 'TCC', 'TCA', 'TCG', 'CCT', 'CCC', 'CCA', 'CCG', 'ACT', 'ACC', 'ACA', 'ACG', 'GCT', 'GCC', 'GCA', 'GCG', 'TGT', 'TGC', 'TGA', 'TGG', 'CGT', 'CGC', 'CGA', 'CGG', 'AGT', 'AGC', 'AGA', 'AGG', 'GGT', 'GGC', 'GGA', 'GGG']\nDivision                  1\nAssembly             177439\nTaxid                 59670\nSpecies               59060\nOrganelle                 4\nTranslation Table        11\ndtype: int64\n"
     ]
    },
    {
     "output_type": "execute_result",
     "data": {
      "text/plain": [
       "array(['genomic', 'mitochondrion', 'chloroplast', 'plastid'], dtype=object)"
      ]
     },
     "metadata": {},
     "execution_count": 144
    }
   ],
   "source": [
    "print(list(df))\n",
    "print(df.iloc[:, 0:6].nunique())\n",
    "df.iloc[:,4].unique()"
   ]
  },
  {
   "source": [
    "As we can see here, we have 191025 samples with 76 variables. A quick glance at the number of unique values show that the data requires cleaning. Firstly, we have less unique assemblies than number of rows, meaning that some of the assemblies are repeated or NaN. Even though the number of species and taxid differs, here it is acceptable as there might taxonomic IDs only goes up till species levels but there might be subspecies especially for microbes. We also have different type of DNA origins, here we focus on genomic DNA as those genes in mitochondrion, plastid or chloroplast might be shared between distantly related species and skew the differences. "
   ],
   "cell_type": "markdown",
   "metadata": {}
  },
  {
   "cell_type": "code",
   "execution_count": 145,
   "metadata": {},
   "outputs": [
    {
     "output_type": "execute_result",
     "data": {
      "text/plain": [
       "       Division         Assembly    Taxid                             Species  \\\n",
       "658      refseq  GCF_000513435.1  1173487                 Halorubrum sp. AJ67   \n",
       "660      refseq  GCF_000513435.1  1173487                 Halorubrum sp. AJ67   \n",
       "719      refseq              NaN  1407055  Candidatus Nitrosotenuis uzonensis   \n",
       "720      refseq  GCF_000723185.1  1407055  Candidatus Nitrosotenuis uzonensis   \n",
       "4956     refseq              NaN  1354719          Helicobacter pylori HP87P7   \n",
       "...         ...              ...      ...                                 ...   \n",
       "191020   refseq              NaN  1923763           Xingshan nematode virus 4   \n",
       "191021   refseq              NaN  1923772            Xinzhou nematode virus 4   \n",
       "191022   refseq              NaN  1415147                 Xylella phage Salvo   \n",
       "191023   refseq              NaN  1415148                  Xylella phage Sano   \n",
       "191024   refseq              NaN  2052742          Yersinia phage fHe-Yen9-04   \n",
       "\n",
       "       Organelle  Translation Table  # CDS  # Codons    GC%   GC1%  ...   CGA  \\\n",
       "658      genomic                 11   3078    763055  64.68  67.31  ...  8366   \n",
       "660      genomic                 11   3083    764041  64.69  67.32  ...  8369   \n",
       "719      genomic                 11      1       200  55.83  60.50  ...     1   \n",
       "720      genomic                 11   1876    493394  42.86  49.86  ...  2243   \n",
       "4956     genomic                 11      4      1064  37.53  40.04  ...    11   \n",
       "...          ...                ...    ...       ...    ...    ...  ...   ...   \n",
       "191020   genomic                  0      5      3630  38.21  43.91  ...    49   \n",
       "191021   genomic                  0      5      3652  39.91  45.29  ...    39   \n",
       "191022   genomic                 11     72     17848  63.15  62.21  ...    58   \n",
       "191023   genomic                 11     77     17851  62.46  61.59  ...    71   \n",
       "191024   genomic                 11    531    108127  31.57  43.67  ...   472   \n",
       "\n",
       "          CGG   AGT    AGC   AGA   AGG   GGT    GGC    GGA    GGG  \n",
       "658     17661  3223  10213  1988  2032  7707  29947   8715  16798  \n",
       "660     17683  3223  10222  1988  2032  7711  30002   8725  16820  \n",
       "719         0     1      1     2     2     0      2      5      0  \n",
       "720       824  3560   5730  9304  5257  6294  10132  12660   3397  \n",
       "4956        8    10     22    21    21     9     10     14     16  \n",
       "...       ...   ...    ...   ...   ...   ...    ...    ...    ...  \n",
       "191020     13    60     29    72    21    40     19     85     41  \n",
       "191021     11    71     30    73    12    38     21     99     34  \n",
       "191022    140    30    344    10    22   163    993     71    109  \n",
       "191023    137    41    340    10    24   185    993     74     95  \n",
       "191024    138  2424    329  1074   190  3630    317   1761    401  \n",
       "\n",
       "[13585 rows x 76 columns]"
      ],
      "text/html": "<div>\n<style scoped>\n    .dataframe tbody tr th:only-of-type {\n        vertical-align: middle;\n    }\n\n    .dataframe tbody tr th {\n        vertical-align: top;\n    }\n\n    .dataframe thead th {\n        text-align: right;\n    }\n</style>\n<table border=\"1\" class=\"dataframe\">\n  <thead>\n    <tr style=\"text-align: right;\">\n      <th></th>\n      <th>Division</th>\n      <th>Assembly</th>\n      <th>Taxid</th>\n      <th>Species</th>\n      <th>Organelle</th>\n      <th>Translation Table</th>\n      <th># CDS</th>\n      <th># Codons</th>\n      <th>GC%</th>\n      <th>GC1%</th>\n      <th>...</th>\n      <th>CGA</th>\n      <th>CGG</th>\n      <th>AGT</th>\n      <th>AGC</th>\n      <th>AGA</th>\n      <th>AGG</th>\n      <th>GGT</th>\n      <th>GGC</th>\n      <th>GGA</th>\n      <th>GGG</th>\n    </tr>\n  </thead>\n  <tbody>\n    <tr>\n      <th>658</th>\n      <td>refseq</td>\n      <td>GCF_000513435.1</td>\n      <td>1173487</td>\n      <td>Halorubrum sp. AJ67</td>\n      <td>genomic</td>\n      <td>11</td>\n      <td>3078</td>\n      <td>763055</td>\n      <td>64.68</td>\n      <td>67.31</td>\n      <td>...</td>\n      <td>8366</td>\n      <td>17661</td>\n      <td>3223</td>\n      <td>10213</td>\n      <td>1988</td>\n      <td>2032</td>\n      <td>7707</td>\n      <td>29947</td>\n      <td>8715</td>\n      <td>16798</td>\n    </tr>\n    <tr>\n      <th>660</th>\n      <td>refseq</td>\n      <td>GCF_000513435.1</td>\n      <td>1173487</td>\n      <td>Halorubrum sp. AJ67</td>\n      <td>genomic</td>\n      <td>11</td>\n      <td>3083</td>\n      <td>764041</td>\n      <td>64.69</td>\n      <td>67.32</td>\n      <td>...</td>\n      <td>8369</td>\n      <td>17683</td>\n      <td>3223</td>\n      <td>10222</td>\n      <td>1988</td>\n      <td>2032</td>\n      <td>7711</td>\n      <td>30002</td>\n      <td>8725</td>\n      <td>16820</td>\n    </tr>\n    <tr>\n      <th>719</th>\n      <td>refseq</td>\n      <td>NaN</td>\n      <td>1407055</td>\n      <td>Candidatus Nitrosotenuis uzonensis</td>\n      <td>genomic</td>\n      <td>11</td>\n      <td>1</td>\n      <td>200</td>\n      <td>55.83</td>\n      <td>60.50</td>\n      <td>...</td>\n      <td>1</td>\n      <td>0</td>\n      <td>1</td>\n      <td>1</td>\n      <td>2</td>\n      <td>2</td>\n      <td>0</td>\n      <td>2</td>\n      <td>5</td>\n      <td>0</td>\n    </tr>\n    <tr>\n      <th>720</th>\n      <td>refseq</td>\n      <td>GCF_000723185.1</td>\n      <td>1407055</td>\n      <td>Candidatus Nitrosotenuis uzonensis</td>\n      <td>genomic</td>\n      <td>11</td>\n      <td>1876</td>\n      <td>493394</td>\n      <td>42.86</td>\n      <td>49.86</td>\n      <td>...</td>\n      <td>2243</td>\n      <td>824</td>\n      <td>3560</td>\n      <td>5730</td>\n      <td>9304</td>\n      <td>5257</td>\n      <td>6294</td>\n      <td>10132</td>\n      <td>12660</td>\n      <td>3397</td>\n    </tr>\n    <tr>\n      <th>4956</th>\n      <td>refseq</td>\n      <td>NaN</td>\n      <td>1354719</td>\n      <td>Helicobacter pylori HP87P7</td>\n      <td>genomic</td>\n      <td>11</td>\n      <td>4</td>\n      <td>1064</td>\n      <td>37.53</td>\n      <td>40.04</td>\n      <td>...</td>\n      <td>11</td>\n      <td>8</td>\n      <td>10</td>\n      <td>22</td>\n      <td>21</td>\n      <td>21</td>\n      <td>9</td>\n      <td>10</td>\n      <td>14</td>\n      <td>16</td>\n    </tr>\n    <tr>\n      <th>...</th>\n      <td>...</td>\n      <td>...</td>\n      <td>...</td>\n      <td>...</td>\n      <td>...</td>\n      <td>...</td>\n      <td>...</td>\n      <td>...</td>\n      <td>...</td>\n      <td>...</td>\n      <td>...</td>\n      <td>...</td>\n      <td>...</td>\n      <td>...</td>\n      <td>...</td>\n      <td>...</td>\n      <td>...</td>\n      <td>...</td>\n      <td>...</td>\n      <td>...</td>\n      <td>...</td>\n    </tr>\n    <tr>\n      <th>191020</th>\n      <td>refseq</td>\n      <td>NaN</td>\n      <td>1923763</td>\n      <td>Xingshan nematode virus 4</td>\n      <td>genomic</td>\n      <td>0</td>\n      <td>5</td>\n      <td>3630</td>\n      <td>38.21</td>\n      <td>43.91</td>\n      <td>...</td>\n      <td>49</td>\n      <td>13</td>\n      <td>60</td>\n      <td>29</td>\n      <td>72</td>\n      <td>21</td>\n      <td>40</td>\n      <td>19</td>\n      <td>85</td>\n      <td>41</td>\n    </tr>\n    <tr>\n      <th>191021</th>\n      <td>refseq</td>\n      <td>NaN</td>\n      <td>1923772</td>\n      <td>Xinzhou nematode virus 4</td>\n      <td>genomic</td>\n      <td>0</td>\n      <td>5</td>\n      <td>3652</td>\n      <td>39.91</td>\n      <td>45.29</td>\n      <td>...</td>\n      <td>39</td>\n      <td>11</td>\n      <td>71</td>\n      <td>30</td>\n      <td>73</td>\n      <td>12</td>\n      <td>38</td>\n      <td>21</td>\n      <td>99</td>\n      <td>34</td>\n    </tr>\n    <tr>\n      <th>191022</th>\n      <td>refseq</td>\n      <td>NaN</td>\n      <td>1415147</td>\n      <td>Xylella phage Salvo</td>\n      <td>genomic</td>\n      <td>11</td>\n      <td>72</td>\n      <td>17848</td>\n      <td>63.15</td>\n      <td>62.21</td>\n      <td>...</td>\n      <td>58</td>\n      <td>140</td>\n      <td>30</td>\n      <td>344</td>\n      <td>10</td>\n      <td>22</td>\n      <td>163</td>\n      <td>993</td>\n      <td>71</td>\n      <td>109</td>\n    </tr>\n    <tr>\n      <th>191023</th>\n      <td>refseq</td>\n      <td>NaN</td>\n      <td>1415148</td>\n      <td>Xylella phage Sano</td>\n      <td>genomic</td>\n      <td>11</td>\n      <td>77</td>\n      <td>17851</td>\n      <td>62.46</td>\n      <td>61.59</td>\n      <td>...</td>\n      <td>71</td>\n      <td>137</td>\n      <td>41</td>\n      <td>340</td>\n      <td>10</td>\n      <td>24</td>\n      <td>185</td>\n      <td>993</td>\n      <td>74</td>\n      <td>95</td>\n    </tr>\n    <tr>\n      <th>191024</th>\n      <td>refseq</td>\n      <td>NaN</td>\n      <td>2052742</td>\n      <td>Yersinia phage fHe-Yen9-04</td>\n      <td>genomic</td>\n      <td>11</td>\n      <td>531</td>\n      <td>108127</td>\n      <td>31.57</td>\n      <td>43.67</td>\n      <td>...</td>\n      <td>472</td>\n      <td>138</td>\n      <td>2424</td>\n      <td>329</td>\n      <td>1074</td>\n      <td>190</td>\n      <td>3630</td>\n      <td>317</td>\n      <td>1761</td>\n      <td>401</td>\n    </tr>\n  </tbody>\n</table>\n<p>13585 rows × 76 columns</p>\n</div>"
     },
     "metadata": {},
     "execution_count": 145
    }
   ],
   "source": [
    "df[df.duplicated(['Assembly'])]"
   ]
  },
  {
   "source": [
    "Interestingly, there are multiple entries with the same assembly ID but differing number of coding sequences (# CDS). This may be due to the different gene open reading fram predictions from different softwares. To simplify the data, we shall only keep the assembly with the largest number of CDS. Furhtermore, we shall remove those without assembly IDs, as they are just draft collections of contigs without proper curated annotations.  "
   ],
   "cell_type": "markdown",
   "metadata": {}
  },
  {
   "cell_type": "code",
   "execution_count": 146,
   "metadata": {},
   "outputs": [
    {
     "output_type": "stream",
     "name": "stdout",
     "text": [
      "(177439, 76)\n"
     ]
    },
    {
     "output_type": "execute_result",
     "data": {
      "text/plain": [
       "Empty DataFrame\n",
       "Columns: [Division, Assembly, Taxid, Species, Organelle, Translation Table, # CDS, # Codons, GC%, GC1%, GC2%, GC3%, TTT, TTC, TTA, TTG, CTT, CTC, CTA, CTG, ATT, ATC, ATA, ATG, GTT, GTC, GTA, GTG, TAT, TAC, TAA, TAG, CAT, CAC, CAA, CAG, AAT, AAC, AAA, AAG, GAT, GAC, GAA, GAG, TCT, TCC, TCA, TCG, CCT, CCC, CCA, CCG, ACT, ACC, ACA, ACG, GCT, GCC, GCA, GCG, TGT, TGC, TGA, TGG, CGT, CGC, CGA, CGG, AGT, AGC, AGA, AGG, GGT, GGC, GGA, GGG]\n",
       "Index: []\n",
       "\n",
       "[0 rows x 76 columns]"
      ],
      "text/html": "<div>\n<style scoped>\n    .dataframe tbody tr th:only-of-type {\n        vertical-align: middle;\n    }\n\n    .dataframe tbody tr th {\n        vertical-align: top;\n    }\n\n    .dataframe thead th {\n        text-align: right;\n    }\n</style>\n<table border=\"1\" class=\"dataframe\">\n  <thead>\n    <tr style=\"text-align: right;\">\n      <th></th>\n      <th>Division</th>\n      <th>Assembly</th>\n      <th>Taxid</th>\n      <th>Species</th>\n      <th>Organelle</th>\n      <th>Translation Table</th>\n      <th># CDS</th>\n      <th># Codons</th>\n      <th>GC%</th>\n      <th>GC1%</th>\n      <th>...</th>\n      <th>CGA</th>\n      <th>CGG</th>\n      <th>AGT</th>\n      <th>AGC</th>\n      <th>AGA</th>\n      <th>AGG</th>\n      <th>GGT</th>\n      <th>GGC</th>\n      <th>GGA</th>\n      <th>GGG</th>\n    </tr>\n  </thead>\n  <tbody>\n  </tbody>\n</table>\n<p>0 rows × 76 columns</p>\n</div>"
     },
     "metadata": {},
     "execution_count": 146
    }
   ],
   "source": [
    "df = df[df[\"Organelle\"] == \"genomic\"] #keep genomic\n",
    "df = df[df[\"Assembly\"].notna()] #drop NaN\n",
    "df = df.sort_values(\"# CDS\", ascending=False).drop_duplicates(\"Assembly\").sort_index()\n",
    "print(df.shape)\n",
    "df[df.duplicated([\"Assembly\"])]"
   ]
  },
  {
   "source": [
    "Looks like the data is cleaned! We shall check for any NAs just to be safe.."
   ],
   "cell_type": "markdown",
   "metadata": {}
  },
  {
   "cell_type": "code",
   "execution_count": 147,
   "metadata": {},
   "outputs": [
    {
     "output_type": "stream",
     "name": "stdout",
     "text": [
      "False\n"
     ]
    },
    {
     "output_type": "execute_result",
     "data": {
      "text/plain": [
       "  Division         Assembly    Taxid                                Species  \\\n",
       "0   refseq  GCF_002287175.1     2161              Methanobacterium bryantii   \n",
       "1   refseq  GCF_000302455.1  1204725   Methanobacterium formicicum DSM 3637   \n",
       "2   refseq  GCF_000762265.1     2162            Methanobacterium formicicum   \n",
       "3   refseq  GCF_001458655.1     2162            Methanobacterium formicicum   \n",
       "4   refseq  GCF_000016525.1   420247  Methanobrevibacter smithii ATCC 35061   \n",
       "\n",
       "  Organelle  Translation Table  # CDS  # Codons    GC%   GC1%  ...   CGA  \\\n",
       "0   genomic                 11   3266    910953  35.52  45.52  ...  2404   \n",
       "1   genomic                 11   2520    719599  40.88  49.69  ...  2968   \n",
       "2   genomic                 11   2376    678104  43.72  51.53  ...  3067   \n",
       "3   genomic                 11   2372    690178  43.50  51.30  ...  3102   \n",
       "4   genomic                 11   1757    557617  32.06  43.34  ...   405   \n",
       "\n",
       "    CGG    AGT   AGC    AGA   AGG    GGT   GGC    GGA   GGG  \n",
       "0  1515  12496  7687  14043  8418  18911  8417  26631  8789  \n",
       "1  3068  10562  4882   8084  6214  17552  5296  21059  7069  \n",
       "2  5204   9335  4793   6499  5439  15945  5847  19130  7839  \n",
       "3  5182   9545  4797   6613  5472  16184  5887  19385  7934  \n",
       "4   168   8234  3248  10191  2880  14664  2965  16981  2107  \n",
       "\n",
       "[5 rows x 76 columns]"
      ],
      "text/html": "<div>\n<style scoped>\n    .dataframe tbody tr th:only-of-type {\n        vertical-align: middle;\n    }\n\n    .dataframe tbody tr th {\n        vertical-align: top;\n    }\n\n    .dataframe thead th {\n        text-align: right;\n    }\n</style>\n<table border=\"1\" class=\"dataframe\">\n  <thead>\n    <tr style=\"text-align: right;\">\n      <th></th>\n      <th>Division</th>\n      <th>Assembly</th>\n      <th>Taxid</th>\n      <th>Species</th>\n      <th>Organelle</th>\n      <th>Translation Table</th>\n      <th># CDS</th>\n      <th># Codons</th>\n      <th>GC%</th>\n      <th>GC1%</th>\n      <th>...</th>\n      <th>CGA</th>\n      <th>CGG</th>\n      <th>AGT</th>\n      <th>AGC</th>\n      <th>AGA</th>\n      <th>AGG</th>\n      <th>GGT</th>\n      <th>GGC</th>\n      <th>GGA</th>\n      <th>GGG</th>\n    </tr>\n  </thead>\n  <tbody>\n    <tr>\n      <th>0</th>\n      <td>refseq</td>\n      <td>GCF_002287175.1</td>\n      <td>2161</td>\n      <td>Methanobacterium bryantii</td>\n      <td>genomic</td>\n      <td>11</td>\n      <td>3266</td>\n      <td>910953</td>\n      <td>35.52</td>\n      <td>45.52</td>\n      <td>...</td>\n      <td>2404</td>\n      <td>1515</td>\n      <td>12496</td>\n      <td>7687</td>\n      <td>14043</td>\n      <td>8418</td>\n      <td>18911</td>\n      <td>8417</td>\n      <td>26631</td>\n      <td>8789</td>\n    </tr>\n    <tr>\n      <th>1</th>\n      <td>refseq</td>\n      <td>GCF_000302455.1</td>\n      <td>1204725</td>\n      <td>Methanobacterium formicicum DSM 3637</td>\n      <td>genomic</td>\n      <td>11</td>\n      <td>2520</td>\n      <td>719599</td>\n      <td>40.88</td>\n      <td>49.69</td>\n      <td>...</td>\n      <td>2968</td>\n      <td>3068</td>\n      <td>10562</td>\n      <td>4882</td>\n      <td>8084</td>\n      <td>6214</td>\n      <td>17552</td>\n      <td>5296</td>\n      <td>21059</td>\n      <td>7069</td>\n    </tr>\n    <tr>\n      <th>2</th>\n      <td>refseq</td>\n      <td>GCF_000762265.1</td>\n      <td>2162</td>\n      <td>Methanobacterium formicicum</td>\n      <td>genomic</td>\n      <td>11</td>\n      <td>2376</td>\n      <td>678104</td>\n      <td>43.72</td>\n      <td>51.53</td>\n      <td>...</td>\n      <td>3067</td>\n      <td>5204</td>\n      <td>9335</td>\n      <td>4793</td>\n      <td>6499</td>\n      <td>5439</td>\n      <td>15945</td>\n      <td>5847</td>\n      <td>19130</td>\n      <td>7839</td>\n    </tr>\n    <tr>\n      <th>3</th>\n      <td>refseq</td>\n      <td>GCF_001458655.1</td>\n      <td>2162</td>\n      <td>Methanobacterium formicicum</td>\n      <td>genomic</td>\n      <td>11</td>\n      <td>2372</td>\n      <td>690178</td>\n      <td>43.50</td>\n      <td>51.30</td>\n      <td>...</td>\n      <td>3102</td>\n      <td>5182</td>\n      <td>9545</td>\n      <td>4797</td>\n      <td>6613</td>\n      <td>5472</td>\n      <td>16184</td>\n      <td>5887</td>\n      <td>19385</td>\n      <td>7934</td>\n    </tr>\n    <tr>\n      <th>4</th>\n      <td>refseq</td>\n      <td>GCF_000016525.1</td>\n      <td>420247</td>\n      <td>Methanobrevibacter smithii ATCC 35061</td>\n      <td>genomic</td>\n      <td>11</td>\n      <td>1757</td>\n      <td>557617</td>\n      <td>32.06</td>\n      <td>43.34</td>\n      <td>...</td>\n      <td>405</td>\n      <td>168</td>\n      <td>8234</td>\n      <td>3248</td>\n      <td>10191</td>\n      <td>2880</td>\n      <td>14664</td>\n      <td>2965</td>\n      <td>16981</td>\n      <td>2107</td>\n    </tr>\n  </tbody>\n</table>\n<p>5 rows × 76 columns</p>\n</div>"
     },
     "metadata": {},
     "execution_count": 147
    }
   ],
   "source": [
    "print(df.isnull().any().any())\n",
    "df.head()"
   ]
  },
  {
   "source": [
    "## Preparing data for training and testing\n",
    "We will split the data up, using the codons as variables (total of 64) and using the taxonomy IDs as class labels. We will need to parse the taxonomy tree for the lineage of each taxonomy id. "
   ],
   "cell_type": "markdown",
   "metadata": {}
  },
  {
   "cell_type": "code",
   "execution_count": 31,
   "metadata": {},
   "outputs": [
    {
     "output_type": "stream",
     "name": "stdout",
     "text": [
      "50398\n"
     ]
    }
   ],
   "source": [
    "from Bio import Entrez\n",
    "#entrez records has maximum length of 10000\n",
    "total_species = len(df.iloc[:, 2].unique())\n",
    "i=0\n",
    "taxid = []\n",
    "while i < total_species:\n",
    "    if i == 50000:\n",
    "        i_end = total_species\n",
    "    else:\n",
    "        i_end = i+10000\n",
    "    handle = Entrez.efetch(db=\"Taxonomy\", id=df.iloc[:, 2].unique()[i:i_end], retmode=\"xml\")\n",
    "    records = Entrez.read(handle)\n",
    "    taxid.append(records)\n",
    "    i+=10000"
   ]
  },
  {
   "cell_type": "code",
   "execution_count": 148,
   "metadata": {
    "tags": []
   },
   "outputs": [],
   "source": [
    "tax_df = pd.DataFrame(0, index=range(total_species), columns=range(7))\n",
    "major_taxonomy_levels = [\"superkingdom\", \"phylum\", \"class\", \"order\", \"family\", \"genus\", \"Taxid\"]\n",
    "tax_df.columns = major_taxonomy_levels"
   ]
  },
  {
   "cell_type": "code",
   "execution_count": 152,
   "metadata": {
    "tags": []
   },
   "outputs": [
    {
     "output_type": "execute_result",
     "data": {
      "text/plain": [
       "       superkingdom  phylum    class  order   family   genus    Taxid\n",
       "0              2157   28890   183925   2158     2159    2160     2161\n",
       "1              2157   28890   183925   2158     2159    2160  1204725\n",
       "2              2157   28890   183925   2158     2159    2160     2162\n",
       "3              2157   28890   183925   2158     2159    2172   420247\n",
       "4              2157   28890   183925   2158     2159    2172   521002\n",
       "...             ...     ...      ...    ...      ...     ...      ...\n",
       "50393          2759    7711     8292   8445  1277737  264009  1415580\n",
       "50394          2759    7711   186623   7952     7953   75365  1608454\n",
       "50395          2759    7711   186623  41712    31092   91732  1676925\n",
       "50396          2759    7711  1338369   8459     8487   38771  1825980\n",
       "50397          2759    7711     8782   9223     9224   35547  2489341\n",
       "\n",
       "[49515 rows x 7 columns]"
      ],
      "text/html": "<div>\n<style scoped>\n    .dataframe tbody tr th:only-of-type {\n        vertical-align: middle;\n    }\n\n    .dataframe tbody tr th {\n        vertical-align: top;\n    }\n\n    .dataframe thead th {\n        text-align: right;\n    }\n</style>\n<table border=\"1\" class=\"dataframe\">\n  <thead>\n    <tr style=\"text-align: right;\">\n      <th></th>\n      <th>superkingdom</th>\n      <th>phylum</th>\n      <th>class</th>\n      <th>order</th>\n      <th>family</th>\n      <th>genus</th>\n      <th>Taxid</th>\n    </tr>\n  </thead>\n  <tbody>\n    <tr>\n      <th>0</th>\n      <td>2157</td>\n      <td>28890</td>\n      <td>183925</td>\n      <td>2158</td>\n      <td>2159</td>\n      <td>2160</td>\n      <td>2161</td>\n    </tr>\n    <tr>\n      <th>1</th>\n      <td>2157</td>\n      <td>28890</td>\n      <td>183925</td>\n      <td>2158</td>\n      <td>2159</td>\n      <td>2160</td>\n      <td>1204725</td>\n    </tr>\n    <tr>\n      <th>2</th>\n      <td>2157</td>\n      <td>28890</td>\n      <td>183925</td>\n      <td>2158</td>\n      <td>2159</td>\n      <td>2160</td>\n      <td>2162</td>\n    </tr>\n    <tr>\n      <th>3</th>\n      <td>2157</td>\n      <td>28890</td>\n      <td>183925</td>\n      <td>2158</td>\n      <td>2159</td>\n      <td>2172</td>\n      <td>420247</td>\n    </tr>\n    <tr>\n      <th>4</th>\n      <td>2157</td>\n      <td>28890</td>\n      <td>183925</td>\n      <td>2158</td>\n      <td>2159</td>\n      <td>2172</td>\n      <td>521002</td>\n    </tr>\n    <tr>\n      <th>...</th>\n      <td>...</td>\n      <td>...</td>\n      <td>...</td>\n      <td>...</td>\n      <td>...</td>\n      <td>...</td>\n      <td>...</td>\n    </tr>\n    <tr>\n      <th>50393</th>\n      <td>2759</td>\n      <td>7711</td>\n      <td>8292</td>\n      <td>8445</td>\n      <td>1277737</td>\n      <td>264009</td>\n      <td>1415580</td>\n    </tr>\n    <tr>\n      <th>50394</th>\n      <td>2759</td>\n      <td>7711</td>\n      <td>186623</td>\n      <td>7952</td>\n      <td>7953</td>\n      <td>75365</td>\n      <td>1608454</td>\n    </tr>\n    <tr>\n      <th>50395</th>\n      <td>2759</td>\n      <td>7711</td>\n      <td>186623</td>\n      <td>41712</td>\n      <td>31092</td>\n      <td>91732</td>\n      <td>1676925</td>\n    </tr>\n    <tr>\n      <th>50396</th>\n      <td>2759</td>\n      <td>7711</td>\n      <td>1338369</td>\n      <td>8459</td>\n      <td>8487</td>\n      <td>38771</td>\n      <td>1825980</td>\n    </tr>\n    <tr>\n      <th>50397</th>\n      <td>2759</td>\n      <td>7711</td>\n      <td>8782</td>\n      <td>9223</td>\n      <td>9224</td>\n      <td>35547</td>\n      <td>2489341</td>\n    </tr>\n  </tbody>\n</table>\n<p>49515 rows × 7 columns</p>\n</div>"
     },
     "metadata": {},
     "execution_count": 152
    }
   ],
   "source": [
    "i=0\n",
    "for records in taxid:\n",
    "    for record in records:\n",
    "        tax_df.iloc[i,6] = int(record[\"TaxId\"])\n",
    "        for tax in record[\"LineageEx\"]:\n",
    "            if tax[\"Rank\"] == \"superkingdom\":\n",
    "                tax_df.iloc[i,0] = int(tax[\"TaxId\"])\n",
    "            elif tax[\"Rank\"] == \"phylum\":\n",
    "                tax_df.iloc[i,1] = int(tax[\"TaxId\"])\n",
    "            elif tax[\"Rank\"] == \"class\":\n",
    "                tax_df.iloc[i,2] = int(tax[\"TaxId\"])\n",
    "            elif tax[\"Rank\"] == \"order\":\n",
    "                tax_df.iloc[i,3] = int(tax[\"TaxId\"])\n",
    "            elif tax[\"Rank\"] == \"family\":\n",
    "                tax_df.iloc[i,4] = int(tax[\"TaxId\"])\n",
    "            elif tax[\"Rank\"] == \"genus\":\n",
    "                tax_df.iloc[i,5] = int(tax[\"TaxId\"])\n",
    "        i+=1\n",
    "tax_df       "
   ]
  },
  {
   "cell_type": "code",
   "execution_count": 150,
   "metadata": {},
   "outputs": [
    {
     "output_type": "stream",
     "name": "stdout",
     "text": [
      "superkingdom       0\nphylum            71\nclass            785\norder            424\nfamily           837\ngenus           1077\nTaxid              0\ndtype: int64\n88\n"
     ]
    },
    {
     "output_type": "execute_result",
     "data": {
      "text/plain": [
       "dict_values([603, 91, 23, 33, 3, 1, 1, 71, 1, 21867, 8127, 4, 2663, 148, 615, 23, 13256, 116, 74, 183, 134, 43, 11, 32, 26, 547, 354, 83, 9, 132, 29, 50, 3, 1, 1, 5, 4, 3, 1, 15, 2, 6, 2, 2, 22, 1, 5, 1, 3, 1, 4, 1, 1, 2, 1, 3, 1, 1, 6, 4, 210, 4, 52, 8, 3, 9, 4, 4, 1, 9, 143, 1, 2, 309, 1, 1, 1, 1, 108, 8, 1, 2, 1, 7, 13, 4, 35, 1])"
      ]
     },
     "metadata": {},
     "execution_count": 150
    }
   ],
   "source": [
    "print((tax_df == 0).sum(axis=0))\n",
    "print(len(tax_df.iloc[:, 1].unique()))\n",
    "from collections import Counter\n",
    "Counter(tax_df[\"phylum\"]).values()"
   ]
  },
  {
   "source": [
    "There appears to be some data with missing taxonomic annotations. Furthermore, some phyla has many examples while others only have a handful. We will only keep those with > 100 examples."
   ],
   "cell_type": "markdown",
   "metadata": {}
  },
  {
   "cell_type": "code",
   "execution_count": 151,
   "metadata": {},
   "outputs": [
    {
     "output_type": "execute_result",
     "data": {
      "text/plain": [
       "       Division         Assembly    Taxid  \\\n",
       "0        refseq  GCF_002287175.1     2161   \n",
       "1        refseq  GCF_000302455.1  1204725   \n",
       "2        refseq  GCF_000762265.1     2162   \n",
       "3        refseq  GCF_001458655.1     2162   \n",
       "4        refseq  GCF_000016525.1   420247   \n",
       "...         ...              ...      ...   \n",
       "181848   refseq  GCF_901765095.1  1415580   \n",
       "181850   refseq  GCF_001515605.1  1608454   \n",
       "181852   refseq  GCF_002872115.1  1676925   \n",
       "181853   refseq  GCF_007399415.2  1825980   \n",
       "181855   refseq  GCF_004027225.1  2489341   \n",
       "\n",
       "                                      Species Organelle  Translation Table  \\\n",
       "0                   Methanobacterium bryantii   genomic                 11   \n",
       "1        Methanobacterium formicicum DSM 3637   genomic                 11   \n",
       "2                 Methanobacterium formicicum   genomic                 11   \n",
       "3                 Methanobacterium formicicum   genomic                 11   \n",
       "4       Methanobrevibacter smithii ATCC 35061   genomic                 11   \n",
       "...                                       ...       ...                ...   \n",
       "181848                 Microcaecilia unicolor   genomic                  0   \n",
       "181850           Sinocyclocheilus anshuiensis   genomic                  0   \n",
       "181852               Paramormyrops kingsleyae   genomic                  0   \n",
       "181853                      Gopherus evgoodei   genomic                  0   \n",
       "181855                    Strigops habroptila   genomic                  0   \n",
       "\n",
       "        # CDS  # Codons    GC%   GC1%  ...     CGA     CGG     AGT     AGC  \\\n",
       "0        3266    910953  35.52  45.52  ...    2404    1515   12496    7687   \n",
       "1        2520    719599  40.88  49.69  ...    2968    3068   10562    4882   \n",
       "2        2376    678104  43.72  51.53  ...    3067    5204    9335    4793   \n",
       "3        2372    690178  43.50  51.30  ...    3102    5182    9545    4797   \n",
       "4        1757    557617  32.06  43.34  ...     405     168    8234    3248   \n",
       "...       ...       ...    ...    ...  ...     ...     ...     ...     ...   \n",
       "181848  35405  20605114  46.78  52.18  ...  137037  136305  330959  359823   \n",
       "181850  67753  41525357  50.84  54.62  ...  266568  284411  622434  819038   \n",
       "181852  55174  37697302  56.10  57.17  ...  189905  463292  403279  918378   \n",
       "181853  49709  34253340  49.30  54.06  ...  199608  300008  500034  677088   \n",
       "181855  42710  31775684  49.39  54.52  ...  178349  285596  463765  640730   \n",
       "\n",
       "           AGA     AGG     GGT     GGC     GGA     GGG  \n",
       "0        14043    8418   18911    8417   26631    8789  \n",
       "1         8084    6214   17552    5296   21059    7069  \n",
       "2         6499    5439   15945    5847   19130    7839  \n",
       "3         6613    5472   16184    5887   19385    7934  \n",
       "4        10191    2880   14664    2965   16981    2107  \n",
       "...        ...     ...     ...     ...     ...     ...  \n",
       "181848  321754  242704  264062  274277  410074  241232  \n",
       "181850  615112  470561  550460  697798  812809  451550  \n",
       "181852  335427  566434  388203  913712  520100  646555  \n",
       "181853  516372  422769  365846  548610  609307  517676  \n",
       "181855  453429  390137  377436  520866  590895  448712  \n",
       "\n",
       "[174162 rows x 76 columns]"
      ],
      "text/html": "<div>\n<style scoped>\n    .dataframe tbody tr th:only-of-type {\n        vertical-align: middle;\n    }\n\n    .dataframe tbody tr th {\n        vertical-align: top;\n    }\n\n    .dataframe thead th {\n        text-align: right;\n    }\n</style>\n<table border=\"1\" class=\"dataframe\">\n  <thead>\n    <tr style=\"text-align: right;\">\n      <th></th>\n      <th>Division</th>\n      <th>Assembly</th>\n      <th>Taxid</th>\n      <th>Species</th>\n      <th>Organelle</th>\n      <th>Translation Table</th>\n      <th># CDS</th>\n      <th># Codons</th>\n      <th>GC%</th>\n      <th>GC1%</th>\n      <th>...</th>\n      <th>CGA</th>\n      <th>CGG</th>\n      <th>AGT</th>\n      <th>AGC</th>\n      <th>AGA</th>\n      <th>AGG</th>\n      <th>GGT</th>\n      <th>GGC</th>\n      <th>GGA</th>\n      <th>GGG</th>\n    </tr>\n  </thead>\n  <tbody>\n    <tr>\n      <th>0</th>\n      <td>refseq</td>\n      <td>GCF_002287175.1</td>\n      <td>2161</td>\n      <td>Methanobacterium bryantii</td>\n      <td>genomic</td>\n      <td>11</td>\n      <td>3266</td>\n      <td>910953</td>\n      <td>35.52</td>\n      <td>45.52</td>\n      <td>...</td>\n      <td>2404</td>\n      <td>1515</td>\n      <td>12496</td>\n      <td>7687</td>\n      <td>14043</td>\n      <td>8418</td>\n      <td>18911</td>\n      <td>8417</td>\n      <td>26631</td>\n      <td>8789</td>\n    </tr>\n    <tr>\n      <th>1</th>\n      <td>refseq</td>\n      <td>GCF_000302455.1</td>\n      <td>1204725</td>\n      <td>Methanobacterium formicicum DSM 3637</td>\n      <td>genomic</td>\n      <td>11</td>\n      <td>2520</td>\n      <td>719599</td>\n      <td>40.88</td>\n      <td>49.69</td>\n      <td>...</td>\n      <td>2968</td>\n      <td>3068</td>\n      <td>10562</td>\n      <td>4882</td>\n      <td>8084</td>\n      <td>6214</td>\n      <td>17552</td>\n      <td>5296</td>\n      <td>21059</td>\n      <td>7069</td>\n    </tr>\n    <tr>\n      <th>2</th>\n      <td>refseq</td>\n      <td>GCF_000762265.1</td>\n      <td>2162</td>\n      <td>Methanobacterium formicicum</td>\n      <td>genomic</td>\n      <td>11</td>\n      <td>2376</td>\n      <td>678104</td>\n      <td>43.72</td>\n      <td>51.53</td>\n      <td>...</td>\n      <td>3067</td>\n      <td>5204</td>\n      <td>9335</td>\n      <td>4793</td>\n      <td>6499</td>\n      <td>5439</td>\n      <td>15945</td>\n      <td>5847</td>\n      <td>19130</td>\n      <td>7839</td>\n    </tr>\n    <tr>\n      <th>3</th>\n      <td>refseq</td>\n      <td>GCF_001458655.1</td>\n      <td>2162</td>\n      <td>Methanobacterium formicicum</td>\n      <td>genomic</td>\n      <td>11</td>\n      <td>2372</td>\n      <td>690178</td>\n      <td>43.50</td>\n      <td>51.30</td>\n      <td>...</td>\n      <td>3102</td>\n      <td>5182</td>\n      <td>9545</td>\n      <td>4797</td>\n      <td>6613</td>\n      <td>5472</td>\n      <td>16184</td>\n      <td>5887</td>\n      <td>19385</td>\n      <td>7934</td>\n    </tr>\n    <tr>\n      <th>4</th>\n      <td>refseq</td>\n      <td>GCF_000016525.1</td>\n      <td>420247</td>\n      <td>Methanobrevibacter smithii ATCC 35061</td>\n      <td>genomic</td>\n      <td>11</td>\n      <td>1757</td>\n      <td>557617</td>\n      <td>32.06</td>\n      <td>43.34</td>\n      <td>...</td>\n      <td>405</td>\n      <td>168</td>\n      <td>8234</td>\n      <td>3248</td>\n      <td>10191</td>\n      <td>2880</td>\n      <td>14664</td>\n      <td>2965</td>\n      <td>16981</td>\n      <td>2107</td>\n    </tr>\n    <tr>\n      <th>...</th>\n      <td>...</td>\n      <td>...</td>\n      <td>...</td>\n      <td>...</td>\n      <td>...</td>\n      <td>...</td>\n      <td>...</td>\n      <td>...</td>\n      <td>...</td>\n      <td>...</td>\n      <td>...</td>\n      <td>...</td>\n      <td>...</td>\n      <td>...</td>\n      <td>...</td>\n      <td>...</td>\n      <td>...</td>\n      <td>...</td>\n      <td>...</td>\n      <td>...</td>\n      <td>...</td>\n    </tr>\n    <tr>\n      <th>181848</th>\n      <td>refseq</td>\n      <td>GCF_901765095.1</td>\n      <td>1415580</td>\n      <td>Microcaecilia unicolor</td>\n      <td>genomic</td>\n      <td>0</td>\n      <td>35405</td>\n      <td>20605114</td>\n      <td>46.78</td>\n      <td>52.18</td>\n      <td>...</td>\n      <td>137037</td>\n      <td>136305</td>\n      <td>330959</td>\n      <td>359823</td>\n      <td>321754</td>\n      <td>242704</td>\n      <td>264062</td>\n      <td>274277</td>\n      <td>410074</td>\n      <td>241232</td>\n    </tr>\n    <tr>\n      <th>181850</th>\n      <td>refseq</td>\n      <td>GCF_001515605.1</td>\n      <td>1608454</td>\n      <td>Sinocyclocheilus anshuiensis</td>\n      <td>genomic</td>\n      <td>0</td>\n      <td>67753</td>\n      <td>41525357</td>\n      <td>50.84</td>\n      <td>54.62</td>\n      <td>...</td>\n      <td>266568</td>\n      <td>284411</td>\n      <td>622434</td>\n      <td>819038</td>\n      <td>615112</td>\n      <td>470561</td>\n      <td>550460</td>\n      <td>697798</td>\n      <td>812809</td>\n      <td>451550</td>\n    </tr>\n    <tr>\n      <th>181852</th>\n      <td>refseq</td>\n      <td>GCF_002872115.1</td>\n      <td>1676925</td>\n      <td>Paramormyrops kingsleyae</td>\n      <td>genomic</td>\n      <td>0</td>\n      <td>55174</td>\n      <td>37697302</td>\n      <td>56.10</td>\n      <td>57.17</td>\n      <td>...</td>\n      <td>189905</td>\n      <td>463292</td>\n      <td>403279</td>\n      <td>918378</td>\n      <td>335427</td>\n      <td>566434</td>\n      <td>388203</td>\n      <td>913712</td>\n      <td>520100</td>\n      <td>646555</td>\n    </tr>\n    <tr>\n      <th>181853</th>\n      <td>refseq</td>\n      <td>GCF_007399415.2</td>\n      <td>1825980</td>\n      <td>Gopherus evgoodei</td>\n      <td>genomic</td>\n      <td>0</td>\n      <td>49709</td>\n      <td>34253340</td>\n      <td>49.30</td>\n      <td>54.06</td>\n      <td>...</td>\n      <td>199608</td>\n      <td>300008</td>\n      <td>500034</td>\n      <td>677088</td>\n      <td>516372</td>\n      <td>422769</td>\n      <td>365846</td>\n      <td>548610</td>\n      <td>609307</td>\n      <td>517676</td>\n    </tr>\n    <tr>\n      <th>181855</th>\n      <td>refseq</td>\n      <td>GCF_004027225.1</td>\n      <td>2489341</td>\n      <td>Strigops habroptila</td>\n      <td>genomic</td>\n      <td>0</td>\n      <td>42710</td>\n      <td>31775684</td>\n      <td>49.39</td>\n      <td>54.52</td>\n      <td>...</td>\n      <td>178349</td>\n      <td>285596</td>\n      <td>463765</td>\n      <td>640730</td>\n      <td>453429</td>\n      <td>390137</td>\n      <td>377436</td>\n      <td>520866</td>\n      <td>590895</td>\n      <td>448712</td>\n    </tr>\n  </tbody>\n</table>\n<p>174162 rows × 76 columns</p>\n</div>"
     },
     "metadata": {},
     "execution_count": 151
    }
   ],
   "source": [
    "phylum_to_keep = [key for key,value in Counter(tax_df[\"phylum\"]).items() if value > 100]\n",
    "tax_df = tax_df.loc[tax_df[\"phylum\"].isin(phylum_to_keep)]\n",
    "taxid_to_keep = tax_df[\"Taxid\"]\n",
    "df = df.loc[df[\"Taxid\"].isin(taxid_to_keep)]\n",
    "df"
   ]
  },
  {
   "cell_type": "code",
   "execution_count": 157,
   "metadata": {},
   "outputs": [],
   "source": [
    "#change to percentage\n",
    "df.iloc[:,12:76] = df.iloc[:,12:76].div(df[\"# Codons\"].values, axis=0)\n",
    "#add phylum data\n",
    "df = df.merge(tax_df[[\"phylum\", \"Taxid\"]], how=\"left\")"
   ]
  },
  {
   "cell_type": "code",
   "execution_count": 161,
   "metadata": {},
   "outputs": [
    {
     "output_type": "execute_result",
     "data": {
      "text/plain": [
       "0         28890\n",
       "1         28890\n",
       "2         28890\n",
       "3         28890\n",
       "4         28890\n",
       "          ...  \n",
       "193375     7711\n",
       "193376     7711\n",
       "193377     7711\n",
       "193378     7711\n",
       "193379     7711\n",
       "Name: phylum, Length: 193380, dtype: int64"
      ]
     },
     "metadata": {},
     "execution_count": 161
    }
   ],
   "source": [
    "#split into X and y data\n",
    "X = df.iloc[:, 12:76]\n",
    "y = df.iloc[:, 76]\n"
   ]
  },
  {
   "cell_type": "code",
   "execution_count": null,
   "metadata": {},
   "outputs": [],
   "source": []
  }
 ]
}